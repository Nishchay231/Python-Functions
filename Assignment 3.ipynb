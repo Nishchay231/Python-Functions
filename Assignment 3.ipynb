{
  "nbformat": 4,
  "nbformat_minor": 0,
  "metadata": {
    "colab": {
      "provenance": []
    },
    "kernelspec": {
      "name": "python3",
      "display_name": "Python 3"
    },
    "language_info": {
      "name": "python"
    }
  },
  "cells": [
    {
      "cell_type": "markdown",
      "source": [
        "#Assignment 3 : Functions\n",
        "#Theory Questions"
      ],
      "metadata": {
        "id": "WAucdeOjMD_I"
      }
    },
    {
      "cell_type": "markdown",
      "source": [
        "1. What is the difference between a function and a\n",
        " method in Python?\n",
        ">Difference between Function and methods:\n",
        ">1. A function is an independent block of code, whereas a method is a function that is associated with an object or class.\n",
        ">2. A function can be called directly using its name, whereas a method is called using the object or class it belongs to.\n",
        ">3. A function does not automatically take self or cls as the first parameter, whereas a method automatically receives the object (self) or class (cls) as the first argument.\n",
        ">4. A function is defined outside of a class (unless manually placed inside), whereas a method is defined inside a class."
      ],
      "metadata": {
        "id": "sGgEO5PmMUy0"
      }
    },
    {
      "cell_type": "markdown",
      "source": [
        "2.Explain the concept of function arguments and parameters in Python.\n",
        "\n",
        ">Concept of Functions :\n",
        ">1.  Parameters:\n",
        "\n",
        ">> Definition: Variables defined inside the function's parentheses during its definition.\n",
        "\n",
        ">>Purpose: Act as placeholders to receive values when the function is called.\n",
        "\n",
        ">2. Arguments:\n",
        "\n",
        ">>Definition: The actual values or data passed to the function when calling it.\n",
        "\n",
        ">>Purpose: These are assigned to the parameters inside the function.\n",
        "\n",
        "Example:\n",
        "```\n",
        "# name and age are PARAMETERS\n",
        "def greet(name, age):\n",
        "    print(f\"Hello {name}, you are {age} years old.\")\n",
        "    \n",
        "# \"Nishchay\" and 24 are ARGUMENTS\n",
        "greet(\"Nishchay\", 24)\n",
        "```\n",
        "\n"
      ],
      "metadata": {
        "id": "69U89JTKOC6M"
      }
    },
    {
      "cell_type": "markdown",
      "source": [
        "3.What are the different ways to define and call a function in Python?\n",
        "\n",
        ">Different way to :\n",
        "\n",
        ">A.Defining a function :\n",
        ">1. Standard Function (using def):\n",
        "\n",
        "```\n",
        "def greet():\n",
        "    print(\"Hello!\")\n",
        "```\n",
        ">2. Function with Parameters:\n",
        "\n",
        "```\n",
        "def greet(name):\n",
        "    print(f\"Hello, {name}!\")\n",
        "```\n",
        ">3. Function with Default Parameters:\n",
        "\n",
        "```\n",
        "def greet(name=\"Guest\"):\n",
        "    print(f\"Hello, {name}!\")\n",
        "```\n",
        ">4. Variable-length Arguments (*args and **kwargs) :\n",
        "\n",
        "```\n",
        "def show_info(*args, **kwargs):\n",
        "    print(args)\n",
        "    print(kwargs)\n",
        "```\n",
        ">5. Lambda Function (Anonymous Function):\n",
        "\n",
        "```\n",
        "square = lambda x: x * x\n",
        "```\n",
        ">B.Calling a function:\n",
        "\n",
        ">1. Without Arguments:\n",
        "\n",
        "```\n",
        "greet()\n",
        "```\n",
        ">2. With Postional Arguments:\n",
        "\n",
        "```\n",
        "greet(\"Nishchay\")\n",
        "```\n",
        "\n",
        ">3. With Keyword Arguments\n",
        "\n",
        "```\n",
        "greet(name=\"Nishchay\")\n",
        "```\n",
        "\n",
        ">4. Unpacking Arguments:\n",
        "\n",
        "```\n",
        "data = (\"Nishchay\",)\n",
        "greet(*data)  # Unpacks tuple values\n",
        "\n",
        "details = {\"name\": \"Nishchay\"}\n",
        "greet(**details)  # Unpacks dictionary values\n",
        "```\n",
        "\n",
        ">5. Calling Lambda Function:\n",
        "\n",
        "```\n",
        "print(square(5))\n",
        "```\n",
        "\n",
        "\n",
        "\n",
        "\n",
        "\n",
        "\n",
        "\n",
        "\n",
        "\n",
        "\n",
        "\n",
        "\n",
        "\n"
      ],
      "metadata": {
        "id": "FbAw1qfCOyhk"
      }
    },
    {
      "cell_type": "markdown",
      "source": [
        "4.What is the purpose of the `return` statement in a Python function?\n",
        "\n",
        ">The return statement in Python is used to send a value back from a function to the place where the function was called.\n",
        ">>Purpose of return\n",
        ">1. Ends the function execution immediately.\n",
        ">2. Passes data from the function to the caller.\n",
        ">3. Allows you to store and use the function's output later."
      ],
      "metadata": {
        "id": "Te9O1JNhPUoY"
      }
    },
    {
      "cell_type": "markdown",
      "source": [
        "5.What are iterators in Python and how do they differ from iterables?\n",
        "\n",
        ">1.Iterables:\n",
        ">>Definition: Objects capable of returning elements one at a time.\n",
        ">>Examples: Lists, tuples, strings, sets, dictionaries, ranges, etc.\n",
        ">>Requirement: Must have an __iter__() method.\n",
        "```\n",
        "my_list = [1, 2, 3]\n",
        "for num in my_list:  # my_list is iterable\n",
        "    print(num)\n",
        "```\n",
        ">2.Iterators:\n",
        ">>Definition: Objects that produce the next value of a sequence when requested.\n",
        "\n",
        ">>Examples: Objects returned by iter() function, file objects, generator objects.\n",
        "\n",
        ">>Requirement: Must have both:\n",
        ">>>__iter__() → returns the iterator object itself.\n",
        "\n",
        ">>>__next__() → returns the next item, raises StopIteration when no items are left.\n",
        "```\n",
        "my_list = [1, 2, 3]\n",
        "my_iter = iter(my_list)  # Convert iterable to iterator\n",
        "\n",
        "print(next(my_iter))  # 1\n",
        "print(next(my_iter))  # 2\n",
        "print(next(my_iter))  # 3\n",
        "# print(next(my_iter)) → StopIteration error\n",
        "```\n",
        "\n",
        "\n",
        "\n",
        "\n",
        "\n"
      ],
      "metadata": {
        "id": "OnRql8DlPqEe"
      }
    },
    {
      "cell_type": "markdown",
      "source": [
        "6.Explain the concept of generators in Python and how they are defined.\n",
        "\n",
        ">Generators:\n",
        ">>**Definition**: Generators are special iterators that are defined using a function with the yield keyword instead of return.\n",
        "\n",
        ">>**Purpose**: They allow you to produce values one at a time, on demand, without storing the entire sequence in memory.\n",
        "\n",
        ">>**Nature**: They are lazy iterators, meaning values are generated only when requested.\n",
        "\n",
        ">>**Reason to use** : memory efficient, infinite sequences, faster for large data.\n",
        "\n",
        ">>Define a Generator:\n",
        "\n",
        ">>1. Use the def keyword to define a function.\n",
        "\n",
        ">>2. Use yield instead of return.\n",
        "\n",
        ">>3. When called, the function returns a generator object, not a value.\n",
        "\n",
        "```\n",
        "#simple Generator example:\n",
        "\n",
        "def count_up_to(n):\n",
        "    count = 1\n",
        "    while count <= n:\n",
        "        yield count  # Produces a value and pauses\n",
        "        count += 1\n",
        "\n",
        "# Create generator object\n",
        "counter = count_up_to(3)\n",
        "\n",
        "print(next(counter))  # 1\n",
        "print(next(counter))  # 2\n",
        "print(next(counter))  # 3\n",
        "# print(next(counter)) → StopIteration\n",
        "```\n",
        "\n",
        "\n",
        "\n"
      ],
      "metadata": {
        "id": "WSAMgUg0QPaC"
      }
    },
    {
      "cell_type": "markdown",
      "source": [
        "7.What are the advantages of using generators over regular functions?\n",
        "\n",
        ">Advantages of generators over regular function:\n",
        ">1. Memory Efficiency →\n",
        ">>Generators produce one item at a time instead of storing all results in memory, making them ideal for large datasets or infinite sequences.\n",
        "\n",
        ">2. Lazy Evaluation →\n",
        ">>Values are generated only when requested, which saves processing time and resources.\n",
        "\n",
        ">3. Infinite Sequences Support →\n",
        ">>Generators can represent endless streams (e.g., sensor readings, log files) without running out of memory.\n",
        "\n",
        ">4. Faster Start Time →\n",
        ">>Generators start producing output immediately without waiting for all calculations to finish.\n",
        "\n"
      ],
      "metadata": {
        "id": "TVKQM_T-Ql4U"
      }
    },
    {
      "cell_type": "markdown",
      "source": [
        "8.What is a lambda function in Python and when is it typically used?\n",
        "\n",
        ">A lambda function in Python is a small, anonymous function created using the lambda keyword.\n",
        "\n",
        ">It can take multiple arguments but only has one expression whose result is returned.\n",
        "\n",
        ">Syntax: lambda arguments: expression.\n",
        "\n",
        ">They are typically used for short, quick tasks without defining a full function using def.\n",
        "\n",
        ">Commonly used with functions like map(), filter(), and sorted().\n",
        "\n",
        ">Example:\n",
        "```\n",
        "square = lambda x: x*x → square(5)\n",
        "```\n",
        "\n",
        "\n",
        "\n"
      ],
      "metadata": {
        "id": "zwfDWz5HQti4"
      }
    },
    {
      "cell_type": "markdown",
      "source": [
        "9.Explain the purpose and usage of the `map()` function in Python.\n",
        "\n",
        ">The map() function in Python applies a given function to each item in an iterable (like list, tuple) and returns a map object (an iterator).\n",
        "\n",
        ">Its syntax is: map(function, iterable).\n",
        "\n",
        ">The function can be a normal def function or a lambda function.\n",
        "\n",
        ">You often wrap the result in list() or tuple() to see the values.\n",
        "\n",
        ">It is useful for performing transformations without writing explicit loops.\n",
        "\n",
        "Example:\n",
        "```\n",
        "list(map(lambda x: x*x, [1, 2, 3]))\n",
        "```\n",
        "\n"
      ],
      "metadata": {
        "id": "K6A56OzFRatc"
      }
    },
    {
      "cell_type": "markdown",
      "source": [
        "10.What is the difference between `map()`, `reduce()`, and `filter()` functions in Python?\n",
        "\n",
        ">1. map() → Applies a function to each element of an iterable.\n",
        "\n",
        ">>Returns an iterator with transformed elements.\n",
        "\n",
        ">2. filter() → Selects elements where the function returns True.\n",
        "\n",
        ">>Returns an iterator with only the filtered elements.\n",
        "\n",
        ">3. reduce() → Combines elements cumulatively using a function.\n",
        "\n",
        ">>Returns a single final result.\n",
        "\n",
        ">Example:\n",
        "\n",
        "\n",
        "```\n",
        "map(lambda x: x*2, [1,2,3])\n",
        "#output: [2,4,6]\n",
        "\n",
        "filter(lambda x: x>2, [1,2,3])\n",
        "#Output: [3]\n",
        "\n",
        "reduce(lambda x,y: x+y, [1,2,3])\n",
        "#Output: 6.\n",
        "```\n",
        "\n",
        "\n",
        "\n"
      ],
      "metadata": {
        "id": "VuYVNvzTRfbE"
      }
    },
    {
      "cell_type": "markdown",
      "source": [
        "11. Using pen & Paper write the internal mechanism for sum operation using  reduce function on this given\n",
        "list:[47,11,42,13];\n",
        "\n",
        ">The reduce() function applies a function cumulatively to a sequence of\n",
        "elements, reducing it to a single result. Suppose we apply reduce(lambda a, b: a+b, [1, 2, 3, 4]). First, it takes the first two numbers 1 and 2 and applies the function, giving 3. Then it takes 3 and 3 (next number), giving 6. Finally, it adds 6 and 4, resulting in 10. Thus, the final result of the reduce operation is 10.\n",
        "\n",
        ">Step 1: 47 + 11 = 58\n",
        "\n",
        ">Step 2: 58 + 42 = 100\n",
        "\n",
        ">Step 3: 100 + 13 = 113\n",
        "\n",
        ">Final Answer = 113\n",
        "\n",
        "\n",
        "---\n",
        "\n"
      ],
      "metadata": {
        "id": "VJwP2lgz0ut9"
      }
    },
    {
      "cell_type": "markdown",
      "source": [
        "#Practical Questions"
      ],
      "metadata": {
        "id": "xxgbhrHX3D8F"
      }
    },
    {
      "cell_type": "markdown",
      "source": [
        "1. Write a Python function that takes a list of numbers as input and returns the sum of all even numbers in\n",
        "the list."
      ],
      "metadata": {
        "id": "fnDB_YAR3Ja2"
      }
    },
    {
      "cell_type": "code",
      "execution_count": null,
      "metadata": {
        "id": "JCPBYXK3MCY3",
        "colab": {
          "base_uri": "https://localhost:8080/"
        },
        "outputId": "caa76f2b-a58e-442a-e15c-1214b2a52567"
      },
      "outputs": [
        {
          "output_type": "execute_result",
          "data": {
            "text/plain": [
              "30"
            ]
          },
          "metadata": {},
          "execution_count": 4
        }
      ],
      "source": [
        "def list(a):\n",
        "  sum = 0\n",
        "  for i in a:\n",
        "    if i%2==0:\n",
        "      sum+=i\n",
        "  return sum\n",
        "\n",
        "list([1,2,3,4,5,6,7,8,9,10])\n"
      ]
    },
    {
      "cell_type": "markdown",
      "source": [
        " 2. Create a Python function that accepts a string and returns the reverse of that string."
      ],
      "metadata": {
        "id": "8l1dAjQG3xsc"
      }
    },
    {
      "cell_type": "code",
      "source": [
        "def reverse(a):\n",
        "  return a[::-1]\n",
        "\n",
        "a=input(\"Enter a string: \")\n",
        "print(f\"The reverse of string {a} is {reverse(a)}\")"
      ],
      "metadata": {
        "colab": {
          "base_uri": "https://localhost:8080/"
        },
        "id": "ddzJ6tFe314i",
        "outputId": "5d2987b9-73e4-44a5-8ea6-e9da83fea45a"
      },
      "execution_count": null,
      "outputs": [
        {
          "output_type": "stream",
          "name": "stdout",
          "text": [
            "Enter a string: Nishchay\n",
            "The reverse of string Nishchay is yahchsiN\n"
          ]
        }
      ]
    },
    {
      "cell_type": "markdown",
      "source": [
        " 3. Implement a Python function that takes a list of integers and returns a new list containing the squares of\n",
        "each number."
      ],
      "metadata": {
        "id": "OhKRyXgv5Nz6"
      }
    },
    {
      "cell_type": "code",
      "source": [
        "def square(a):\n",
        "  return [i**2 for i in a]\n",
        "\n",
        "square([1,2,3,4,5])"
      ],
      "metadata": {
        "colab": {
          "base_uri": "https://localhost:8080/"
        },
        "id": "tx1NYY6W5SG6",
        "outputId": "15e2f368-f574-40d5-b9bc-f7e29e8e74c3"
      },
      "execution_count": null,
      "outputs": [
        {
          "output_type": "execute_result",
          "data": {
            "text/plain": [
              "[1, 4, 9, 16, 25]"
            ]
          },
          "metadata": {},
          "execution_count": 13
        }
      ]
    },
    {
      "cell_type": "markdown",
      "source": [
        "4. Write a Python function that checks if a given number is prime or not from 1 to 200."
      ],
      "metadata": {
        "id": "VTA8y6VL9a7x"
      }
    },
    {
      "cell_type": "code",
      "source": [
        "def is_prime():\n",
        "  for i in range(1,201):\n",
        "    if i>1:\n",
        "      for j in range(2,i):\n",
        "        if i%j==0:\n",
        "          break\n",
        "      else:\n",
        "        print(i,end=\" \")\n",
        "\n",
        "is_prime()\n"
      ],
      "metadata": {
        "colab": {
          "base_uri": "https://localhost:8080/"
        },
        "id": "m-UQeARn9fRr",
        "outputId": "d39e6df8-db52-4ac2-99ce-cbfb1ca6550c"
      },
      "execution_count": 15,
      "outputs": [
        {
          "output_type": "stream",
          "name": "stdout",
          "text": [
            "2 3 5 7 11 13 17 19 23 29 31 37 41 43 47 53 59 61 67 71 73 79 83 89 97 101 103 107 109 113 127 131 137 139 149 151 157 163 167 173 179 181 191 193 197 199 "
          ]
        }
      ]
    },
    {
      "cell_type": "markdown",
      "source": [
        " 5. Create an iterator class in Python that generates the Fibonacci sequence up to a specified number of\n",
        "terms."
      ],
      "metadata": {
        "id": "V7jvuaytFbyI"
      }
    },
    {
      "cell_type": "code",
      "source": [
        "class FibonacciIterator:\n",
        "    def __init__(self, limit):\n",
        "        self.limit = limit\n",
        "        self.current = 0\n",
        "        self.next_val = 1\n",
        "        self.count = 0\n",
        "\n",
        "    def __iter__(self):\n",
        "        return self\n",
        "\n",
        "    def __next__(self):\n",
        "        if self.count < self.limit:\n",
        "            fib_num = self.current\n",
        "            self.current, self.next_val = self.next_val, self.current + self.next_val\n",
        "            self.count += 1\n",
        "            return fib_num\n",
        "        else:\n",
        "            raise StopIteration\n",
        "\n",
        "# Example usage:\n",
        "fib_sequence = FibonacciIterator(10)\n",
        "for num in fib_sequence:\n",
        "    print(num,end=\" \")"
      ],
      "metadata": {
        "colab": {
          "base_uri": "https://localhost:8080/"
        },
        "id": "8aB1esZ0FqJZ",
        "outputId": "6cf5ada4-c591-49ee-c48d-08d9268d5086"
      },
      "execution_count": 17,
      "outputs": [
        {
          "output_type": "stream",
          "name": "stdout",
          "text": [
            "0 1 1 2 3 5 8 13 21 34 "
          ]
        }
      ]
    },
    {
      "cell_type": "markdown",
      "source": [
        "6. Write a generator function in Python that yields the powers of 2 up to a given exponent."
      ],
      "metadata": {
        "id": "n4XhI7shGvzw"
      }
    },
    {
      "cell_type": "code",
      "source": [
        "def power_of_two(n):\n",
        "    power = 0\n",
        "    while power <= n:\n",
        "        yield 2 ** power\n",
        "        power += 1\n",
        "\n",
        "# Example usage:\n",
        "for power in power_of_two(5):\n",
        "    print(power)"
      ],
      "metadata": {
        "colab": {
          "base_uri": "https://localhost:8080/"
        },
        "id": "WFwLzpYiGwp5",
        "outputId": "ae8223e0-8f72-4f99-f3c6-c5898013d168"
      },
      "execution_count": 18,
      "outputs": [
        {
          "output_type": "stream",
          "name": "stdout",
          "text": [
            "1\n",
            "2\n",
            "4\n",
            "8\n",
            "16\n",
            "32\n"
          ]
        }
      ]
    },
    {
      "cell_type": "markdown",
      "source": [
        "7. Implement a generator function that reads a file line by line and yields each line as a string."
      ],
      "metadata": {
        "id": "-oj7YpNILP_f"
      }
    },
    {
      "cell_type": "code",
      "source": [
        "def read_lines_generator(file_path):\n",
        "  with open(file_path, 'r') as f:\n",
        "    for line in f:\n",
        "      yield line.strip()\n",
        "\n",
        "read_lines_generator('file.txt')"
      ],
      "metadata": {
        "colab": {
          "base_uri": "https://localhost:8080/"
        },
        "id": "QXFe2jysLTEq",
        "outputId": "5ad784e9-8830-44a8-e3dd-c4532c8bd6d4"
      },
      "execution_count": 5,
      "outputs": [
        {
          "output_type": "execute_result",
          "data": {
            "text/plain": [
              "<generator object read_lines_generator at 0x7eb593b1c5e0>"
            ]
          },
          "metadata": {},
          "execution_count": 5
        }
      ]
    },
    {
      "cell_type": "markdown",
      "source": [
        "8. Use a lambda function in Python to sort a list of\n",
        " tuples based on the second element of each tuple"
      ],
      "metadata": {
        "id": "whQ3pPvH5tog"
      }
    },
    {
      "cell_type": "code",
      "metadata": {
        "colab": {
          "base_uri": "https://localhost:8080/"
        },
        "id": "0b3556a2",
        "outputId": "75b8ecb9-f29f-4674-a2f9-9e05b219f837"
      },
      "source": [
        "list_of_tuples = [(1, 'c'), (3, 'a'), (2, 'b'),(5,'e'),(6,'d')]\n",
        "sorted_list = sorted(list_of_tuples, key=lambda item: item[1])\n",
        "print(sorted_list)"
      ],
      "execution_count": 8,
      "outputs": [
        {
          "output_type": "stream",
          "name": "stdout",
          "text": [
            "[(3, 'a'), (2, 'b'), (1, 'c'), (6, 'd'), (5, 'e')]\n"
          ]
        }
      ]
    },
    {
      "cell_type": "markdown",
      "source": [
        "9.Write a Python program that uses\n",
        "`map()`\n",
        " to convert a\n",
        " list of temperatures from Celsius to Fahrenheit"
      ],
      "metadata": {
        "id": "waD6DDGq6vjU"
      }
    },
    {
      "cell_type": "code",
      "metadata": {
        "colab": {
          "base_uri": "https://localhost:8080/"
        },
        "id": "4fc90f17",
        "outputId": "330ab918-aaed-4e29-82ec-6882ee3cad70"
      },
      "source": [
        "celsius_temperatures = [0, 10, 20, 30, 40, 50]\n",
        "# Formula: (Celsius * 9/5) + 32\n",
        "def celsius_to_fahrenheit(celsius):\n",
        "  return (celsius * 9/5) + 32\n",
        "\n",
        "fahrenheit_temperatures = list(map(celsius_to_fahrenheit, celsius_temperatures))\n",
        "print(\"Celsius temperatures:\", celsius_temperatures)\n",
        "print(\"Fahrenheit temperatures:\", fahrenheit_temperatures)"
      ],
      "execution_count": 9,
      "outputs": [
        {
          "output_type": "stream",
          "name": "stdout",
          "text": [
            "Celsius temperatures: [0, 10, 20, 30, 40, 50]\n",
            "Fahrenheit temperatures: [32.0, 50.0, 68.0, 86.0, 104.0, 122.0]\n"
          ]
        }
      ]
    },
    {
      "cell_type": "markdown",
      "source": [
        "10. Create a Python program that uses\n",
        "`filter()`\n",
        " to\n",
        " remove all the vowels from a given strin"
      ],
      "metadata": {
        "id": "p1Y-OpzT8kzJ"
      }
    },
    {
      "cell_type": "code",
      "metadata": {
        "colab": {
          "base_uri": "https://localhost:8080/"
        },
        "id": "4503d9e8",
        "outputId": "b5937ae6-466a-4fd5-dc05-ba4f4599ae19"
      },
      "source": [
        "# Given string\n",
        "input_string = \"Hello World\"\n",
        "\n",
        "# Define a function to check if a character is a vowel\n",
        "def is_not_vowel(char):\n",
        "  vowels = \"aeiouAEIOU\"\n",
        "  return char not in vowels\n",
        "\n",
        "# Use filter() to remove vowels from the string\n",
        "# filter() returns an iterator, so we join the characters back into a string\n",
        "filtered_string = \"\".join(filter(is_not_vowel, input_string))\n",
        "\n",
        "# Print the original and filtered strings\n",
        "print(\"Original string:\", input_string)\n",
        "print(\"Filtered string (without vowels):\", filtered_string)"
      ],
      "execution_count": 10,
      "outputs": [
        {
          "output_type": "stream",
          "name": "stdout",
          "text": [
            "Original string: Hello World\n",
            "Filtered string (without vowels): Hll Wrld\n"
          ]
        }
      ]
    },
    {
      "cell_type": "markdown",
      "source": [
        "11. Imagine an accounting routine used in a book\n",
        " shop. It works on a list with sublists, which look like this:\n",
        "\n",
        "\n",
        " Write a Python program, which returns a list with 2-tuples. Each tuple\n",
        " consists of the order number and the product of the price per item and the\n",
        " quantity. The product should be increased by 10,- € if the value of the order is\n",
        " smaller than 100,00 €.\n",
        "\n",
        " Write a Python program using lambda and map"
      ],
      "metadata": {
        "id": "g47VB09Z9T9z"
      }
    },
    {
      "cell_type": "code",
      "source": [
        "orders = [[34587, \"Learning Python, Mark Lutz\", 4, 40.95],\n",
        " [98762, \"Programming Python, Mark Lutz\", 5, 56.80],\n",
        " [77226, \"Head First Python, Paul Barry\", 3, 32.95],\n",
        " [88112, \"Einführung in Python3, Bernd Klein\", 3, 24.99]]\n",
        "\n",
        "result = list(map(lambda order: (order[0], order[2] * order[3] + 10 if order[2] * order[3] < 10000 else order[2] * order[3]), orders))\n",
        "print(result)"
      ],
      "metadata": {
        "colab": {
          "base_uri": "https://localhost:8080/"
        },
        "id": "nuvRjywqGqtG",
        "outputId": "8cb78657-be32-465b-8fe8-04318b91ebcb"
      },
      "execution_count": 21,
      "outputs": [
        {
          "output_type": "stream",
          "name": "stdout",
          "text": [
            "[(34587, 173.8), (98762, 294.0), (77226, 108.85000000000001), (88112, 84.97)]\n"
          ]
        }
      ]
    },
    {
      "cell_type": "markdown",
      "source": [
        "\n",
        "\n",
        "---\n",
        "\n"
      ],
      "metadata": {
        "id": "iewufTssIoho"
      }
    }
  ]
}